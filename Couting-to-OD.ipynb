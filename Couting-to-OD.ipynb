{
 "cells": [
  {
   "cell_type": "code",
   "execution_count": null,
   "metadata": {},
   "outputs": [],
   "source": [
    "class Nodo:\n",
    "    def __init__(self, name):\n",
    "        self.name = name\n",
    "        self.conexiones = []\n",
    "\n",
    "    def agregar_conexion(self, nodo_destino, ):\n",
    "        self.conexiones.append({\n",
    "            'destino': nodo_destino,\n",
    "        })"
   ]
  },
  {
   "cell_type": "code",
   "execution_count": 1,
   "metadata": {},
   "outputs": [
    {
     "name": "stdout",
     "output_type": "stream",
     "text": [
      "Matriz OD:\n",
      "A: [0, 50, 30, 20]\n",
      "B: [10, 0, 40, 15]\n",
      "C: [25, 35, 0, 45]\n",
      "D: [5, 12, 18, 0]\n"
     ]
    }
   ],
   "source": [
    "# Definir intersecciones\n",
    "intersecciones = ['A', 'B', 'C', 'D']\n",
    "\n",
    "# Crear matriz OD vacía\n",
    "matriz_od = {origen: {destino: 0 for destino in intersecciones} for origen in intersecciones}\n",
    "\n",
    "# Ingresar datos de aforo (esto es solo un ejemplo, debes reemplazarlo con tus propios datos)\n",
    "datos_aforo = {\n",
    "    ('A', 'B'): 50,\n",
    "    ('A', 'C'): 30,\n",
    "    ('A', 'D'): 20,\n",
    "    ('B', 'A'): 10,\n",
    "    ('B', 'C'): 40,\n",
    "    ('B', 'D'): 15,\n",
    "    ('C', 'A'): 25,\n",
    "    ('C', 'B'): 35,\n",
    "    ('C', 'D'): 45,\n",
    "    ('D', 'A'): 5,\n",
    "    ('D', 'B'): 12,\n",
    "    ('D', 'C'): 18,\n",
    "}\n",
    "\n",
    "# Actualizar la matriz OD con los datos de aforo\n",
    "for origen, destino in datos_aforo:\n",
    "    matriz_od[origen][destino] += datos_aforo[(origen, destino)]\n",
    "\n",
    "# Imprimir la matriz OD\n",
    "print(\"Matriz OD:\")\n",
    "for origen in intersecciones:\n",
    "    fila = [matriz_od[origen][destino] for destino in intersecciones]\n",
    "    print(f\"{origen}: {fila}\")\n",
    "\n",
    "# Puedes realizar análisis adicional basado en la matriz_od según tus necesidades."
   ]
  }
 ],
 "metadata": {
  "kernelspec": {
   "display_name": "base",
   "language": "python",
   "name": "python3"
  },
  "language_info": {
   "codemirror_mode": {
    "name": "ipython",
    "version": 3
   },
   "file_extension": ".py",
   "mimetype": "text/x-python",
   "name": "python",
   "nbconvert_exporter": "python",
   "pygments_lexer": "ipython3",
   "version": "3.8.13"
  }
 },
 "nbformat": 4,
 "nbformat_minor": 2
}
